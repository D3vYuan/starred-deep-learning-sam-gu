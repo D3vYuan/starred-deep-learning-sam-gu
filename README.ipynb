{
 "cells": [
  {
   "cell_type": "markdown",
   "metadata": {},
   "source": [
    "Firstly, please open this README document using your own web browser: https://github.com/telescopeuser/GCP-SamGu\n",
    "\n",
    "[<img align=\"right\" src='Lab/reference/note_slide/video_tn.png' width=40%>](https://youtu.be/Bh443uea-U4 \"Click to play...\")\n",
    "\n",
    "**Video lecture:** \n",
    "\n",
    "https://youtu.be/Bh443uea-U4\n",
    "\n",
    "**Lecture notes:** \n",
    "\n",
    "Notes\\Notes_Image_Analysis.pdf\n",
    "\n",
    "**Lab python notebook:** \n",
    "\n",
    "Lab\\Lab_Image_Analysis.ipynb\n"
   ]
  },
  {
   "cell_type": "markdown",
   "metadata": {},
   "source": [
    "# < Using Deep Learning and Transfer Learning to Conduct Customized Image Analysis >\n",
    "\n",
    "<img align=\"right\" src='https://raw.githubusercontent.com/telescopeuser/workshop_blog/master/wechat_tool/reference/logo.png' width=10%>\n",
    "\n",
    "by: **Sam Gu** [ Data Science Trainer ]\n",
    "\n",
    "\n",
    "May 2017"
   ]
  },
  {
   "cell_type": "markdown",
   "metadata": {},
   "source": [
    "# 1. Lecture: Agenda\n",
    "\n",
    "**Refer to lecture notes: Notes/Notes_Image_Analysis.pdf**\n",
    "\n",
    "<img align=\"left\" src='Lab/reference/note_slide/note_slide_02.JPG' width=100%>"
   ]
  },
  {
   "cell_type": "markdown",
   "metadata": {},
   "source": [
    "# 2. Lab: Hands-on Datalab Workshop on GCP\n",
    "\n",
    "**Refer to lab workshop: Lab/Lab_Image_Analysis.ipynb**\n",
    "\n",
    "Credit: This python notebook was adapted based on: https://www.kernix.com/blog/image-classification-with-a-pre-trained-deep-neural-network_p11"
   ]
  },
  {
   "cell_type": "markdown",
   "metadata": {},
   "source": [
    "### Image Analysis Lab\n",
    "### Detect Normal or Abnormal Industrial Valves, Using Transfer Learning Technology upon Google's Pre-Trained Deep Neural Network\n",
    "\n",
    "The use case here is to use drone to provide regular surveillance on remote or dangerous areas, capturing image of industrial equipment like valves, then send the image back for automatic malfunction diagnosis, using machine intelligence. This improves safety and efficiency compared to current human-involved processes, without large investment on wired sensor infrastructure. The core part of this solution involves advanced image analysis in real world.\n",
    "\n",
    "\n",
    "In this lab, you will carry out a transfer learning example based on Google Inception-v3 image recognition neural network."
   ]
  },
  {
   "cell_type": "markdown",
   "metadata": {},
   "source": [
    "### Normal Valves:\n",
    "<img align=\"left\" src='Lab/images/normal_valve_41.jpg' width=20%>\n",
    "<img align=\"left\" src='Lab/images/normal_valve_07.jpg' width=20%>\n",
    "<img align=\"left\" src='Lab/images/normal_valve_05.jpg' width=20%>\n",
    "<img align=\"left\" src='Lab/images/normal_valve_02.jpg' width=20%>"
   ]
  },
  {
   "cell_type": "markdown",
   "metadata": {},
   "source": [
    "---\n",
    "\n",
    "\n",
    "---\n",
    "\n",
    "\n",
    "---\n",
    "\n",
    "\n",
    "---\n",
    "\n",
    "\n",
    "---\n",
    "\n",
    "\n",
    "---\n",
    "\n",
    "\n",
    "---"
   ]
  },
  {
   "cell_type": "markdown",
   "metadata": {},
   "source": [
    "### Abormal Valves:\n",
    "<img align=\"left\" src='Lab/images/abnormal_valve_09.jpg' width=20%>\n",
    "<img align=\"left\" src='Lab/images/abnormal_valve_49.jpg' width=20%>\n",
    "<img align=\"left\" src='Lab/images/abnormal_valve_18.jpg' width=20%>\n",
    "<img align=\"left\" src='Lab/images/abnormal_valve_20.jpg' width=20%>"
   ]
  },
  {
   "cell_type": "markdown",
   "metadata": {},
   "source": [
    "---\n",
    "\n",
    "\n",
    "---\n",
    "\n",
    "\n",
    "---\n",
    "\n",
    "\n",
    "---\n",
    "\n",
    "\n",
    "---\n",
    "\n",
    "\n",
    "---\n",
    "\n",
    "\n",
    "---"
   ]
  },
  {
   "cell_type": "markdown",
   "metadata": {},
   "source": [
    "### In this Lab, you will learn:\n",
    "\n",
    "<img align=\"left\" src='Lab/reference/note_slide/note_slide_08.JPG' width=100%>"
   ]
  },
  {
   "cell_type": "markdown",
   "metadata": {},
   "source": [
    "# 3. Environment Setup for: Hands-on Datalab Workshop on GCP"
   ]
  },
  {
   "cell_type": "markdown",
   "metadata": {},
   "source": [
    "* Login Google Cloud Platform to start Datalab."
   ]
  },
  {
   "cell_type": "markdown",
   "metadata": {},
   "source": [
    "* Create a new notebook to download this lab by running command: \n",
    "> !git clone https://github.com/telescopeuser/GCP-SamGu.git\n",
    "\n",
    "<img align=\"center\" src='Lab/reference/note_slide/setup_01.png' width=90%>"
   ]
  },
  {
   "cell_type": "markdown",
   "metadata": {},
   "source": [
    "* Go to folder **GCP-SamGu/Lab/**, then open notebook **Lab_Image_Analysis.ipynb** to follow.\n",
    "\n",
    "<img align=\"center\" src='Lab/reference/note_slide/setup_02.png' width=90%>"
   ]
  },
  {
   "cell_type": "markdown",
   "metadata": {},
   "source": [
    "### Reference:\n",
    "* Google Cloud Platform Free Registration: https://cloud.google.com/free/\n",
    "* Google Datalab Quick Start: https://cloud.google.com/datalab/docs/quickstarts\n",
    "        "
   ]
  },
  {
   "cell_type": "markdown",
   "metadata": {},
   "source": [
    "### Google Deep Neural Network: Inception-v3:\n",
    "\n",
    "<img align=\"left\" src='https://4.bp.blogspot.com/-TMOLlkJBxms/Vt3HQXpE2cI/AAAAAAAAA8E/7X7XRFOY6Xo/s1600/image03.png' width=100%>"
   ]
  },
  {
   "cell_type": "markdown",
   "metadata": {
    "collapsed": true
   },
   "source": [
    "# 4. Congratulations! You are now equipped with practical skills to carry out deep leaning image analysis in real world!"
   ]
  },
  {
   "cell_type": "markdown",
   "metadata": {},
   "source": [
    "### You have learnt:\n",
    "* Deep Learning Basics for Image Analysis\n",
    "* Real World Image Analysis Needs\n",
    "* Idea of Transfer Learning\n",
    "* Architecture of Transfer Learning\n",
    "* Hands-on Datalab Workshop on GCP"
   ]
  },
  {
   "cell_type": "markdown",
   "metadata": {
    "collapsed": true
   },
   "source": [
    "# 5. [ Optional ] \n",
    "# Export deep features as CSV file, to further analyze in Orange3 tool"
   ]
  },
  {
   "cell_type": "markdown",
   "metadata": {},
   "source": [
    "<img align=\"left\" src='Lab/reference/orange/orange-valve.png' width=100%>"
   ]
  }
 ],
 "metadata": {
  "kernelspec": {
   "display_name": "Python 3",
   "language": "python",
   "name": "python3"
  },
  "language_info": {
   "codemirror_mode": {
    "name": "ipython",
    "version": 3
   },
   "file_extension": ".py",
   "mimetype": "text/x-python",
   "name": "python",
   "nbconvert_exporter": "python",
   "pygments_lexer": "ipython3",
   "version": "3.6.4"
  }
 },
 "nbformat": 4,
 "nbformat_minor": 1
}
